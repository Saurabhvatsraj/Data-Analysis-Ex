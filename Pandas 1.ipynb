{
 "cells": [
  {
   "cell_type": "code",
   "execution_count": 1,
   "id": "f98d2df7",
   "metadata": {},
   "outputs": [],
   "source": [
    "import pandas as pd"
   ]
  },
  {
   "cell_type": "code",
   "execution_count": 2,
   "id": "714c6ff7",
   "metadata": {},
   "outputs": [
    {
     "data": {
      "text/plain": [
       "'1.4.2'"
      ]
     },
     "execution_count": 2,
     "metadata": {},
     "output_type": "execute_result"
    }
   ],
   "source": [
    "pd.__version__"
   ]
  },
  {
   "cell_type": "code",
   "execution_count": 3,
   "id": "949fe88a",
   "metadata": {},
   "outputs": [],
   "source": [
    "list_series=[1,2,3,4,'abc']"
   ]
  },
  {
   "cell_type": "code",
   "execution_count": 4,
   "id": "510c8752",
   "metadata": {},
   "outputs": [
    {
     "data": {
      "text/plain": [
       "[1, 2, 3, 4, 'abc']"
      ]
     },
     "execution_count": 4,
     "metadata": {},
     "output_type": "execute_result"
    }
   ],
   "source": [
    "list_series"
   ]
  },
  {
   "cell_type": "code",
   "execution_count": 6,
   "id": "c8f3f06f",
   "metadata": {},
   "outputs": [],
   "source": [
    "# creating series----1stvMethod\n",
    "series1=pd.Series(list_series)"
   ]
  },
  {
   "cell_type": "code",
   "execution_count": 7,
   "id": "e0c50f0e",
   "metadata": {},
   "outputs": [
    {
     "data": {
      "text/plain": [
       "0      1\n",
       "1      2\n",
       "2      3\n",
       "3      4\n",
       "4    abc\n",
       "dtype: object"
      ]
     },
     "execution_count": 7,
     "metadata": {},
     "output_type": "execute_result"
    }
   ],
   "source": [
    "series1"
   ]
  },
  {
   "cell_type": "code",
   "execution_count": 11,
   "id": "dc56c684",
   "metadata": {},
   "outputs": [],
   "source": [
    "#2nd Method\n",
    "series2=pd.Series([1,2,3,'abc'])"
   ]
  },
  {
   "cell_type": "code",
   "execution_count": 12,
   "id": "9b17397e",
   "metadata": {},
   "outputs": [
    {
     "data": {
      "text/plain": [
       "0      1\n",
       "1      2\n",
       "2      3\n",
       "3    abc\n",
       "dtype: object"
      ]
     },
     "execution_count": 12,
     "metadata": {},
     "output_type": "execute_result"
    }
   ],
   "source": [
    "series2"
   ]
  },
  {
   "cell_type": "code",
   "execution_count": 13,
   "id": "e0016e24",
   "metadata": {},
   "outputs": [
    {
     "name": "stderr",
     "output_type": "stream",
     "text": [
      "C:\\Users\\saura\\AppData\\Local\\Temp\\ipykernel_19252\\4278880736.py:2: FutureWarning: The default dtype for empty Series will be 'object' instead of 'float64' in a future version. Specify a dtype explicitly to silence this warning.\n",
      "  empty_series=pd.Series([])\n"
     ]
    }
   ],
   "source": [
    "# empty series\n",
    "empty_series=pd.Series([])"
   ]
  },
  {
   "cell_type": "code",
   "execution_count": 14,
   "id": "2cdf49cf",
   "metadata": {},
   "outputs": [
    {
     "data": {
      "text/plain": [
       "Series([], dtype: float64)"
      ]
     },
     "execution_count": 14,
     "metadata": {},
     "output_type": "execute_result"
    }
   ],
   "source": [
    "empty_series"
   ]
  },
  {
   "cell_type": "code",
   "execution_count": 19,
   "id": "0d7ae5e4",
   "metadata": {},
   "outputs": [],
   "source": [
    "# change index value in series\n",
    "series3=pd.Series([1,2,3],index=['x','y','z'])"
   ]
  },
  {
   "cell_type": "code",
   "execution_count": 20,
   "id": "d3259d9b",
   "metadata": {},
   "outputs": [
    {
     "data": {
      "text/plain": [
       "x    1\n",
       "y    2\n",
       "z    3\n",
       "dtype: int64"
      ]
     },
     "execution_count": 20,
     "metadata": {},
     "output_type": "execute_result"
    }
   ],
   "source": [
    "series3"
   ]
  },
  {
   "cell_type": "code",
   "execution_count": 21,
   "id": "de647808",
   "metadata": {},
   "outputs": [],
   "source": [
    "# change dtype in series\n",
    "\n",
    "series4=pd.Series([1,2,3],index=['x','y','z'],dtype=float)"
   ]
  },
  {
   "cell_type": "code",
   "execution_count": 22,
   "id": "908955a5",
   "metadata": {},
   "outputs": [
    {
     "data": {
      "text/plain": [
       "x    1.0\n",
       "y    2.0\n",
       "z    3.0\n",
       "dtype: float64"
      ]
     },
     "execution_count": 22,
     "metadata": {},
     "output_type": "execute_result"
    }
   ],
   "source": [
    "series4"
   ]
  },
  {
   "cell_type": "code",
   "execution_count": 25,
   "id": "57673326",
   "metadata": {},
   "outputs": [],
   "source": [
    "# give column name\n",
    "\n",
    "series5=pd.Series([1,2,3],index=['x','y','z'],dtype=float,name='data_values')"
   ]
  },
  {
   "cell_type": "code",
   "execution_count": 26,
   "id": "af13ea4c",
   "metadata": {},
   "outputs": [
    {
     "data": {
      "text/plain": [
       "x    1.0\n",
       "y    2.0\n",
       "z    3.0\n",
       "Name: data_values, dtype: float64"
      ]
     },
     "execution_count": 26,
     "metadata": {},
     "output_type": "execute_result"
    }
   ],
   "source": [
    "series5"
   ]
  },
  {
   "cell_type": "code",
   "execution_count": 27,
   "id": "ebb98d26",
   "metadata": {},
   "outputs": [],
   "source": [
    "sclaer_series=pd.Series(.4,index=[1,2,3,4,5])"
   ]
  },
  {
   "cell_type": "code",
   "execution_count": 28,
   "id": "64279997",
   "metadata": {},
   "outputs": [
    {
     "data": {
      "text/plain": [
       "1    0.4\n",
       "2    0.4\n",
       "3    0.4\n",
       "4    0.4\n",
       "5    0.4\n",
       "dtype: float64"
      ]
     },
     "execution_count": 28,
     "metadata": {},
     "output_type": "execute_result"
    }
   ],
   "source": [
    "sclaer_series"
   ]
  },
  {
   "cell_type": "code",
   "execution_count": 29,
   "id": "2317bb38",
   "metadata": {},
   "outputs": [],
   "source": [
    "# slicing---\n",
    "series=pd.Series([1,2,3],index=['x','y','z'])"
   ]
  },
  {
   "cell_type": "code",
   "execution_count": 30,
   "id": "fa724869",
   "metadata": {},
   "outputs": [
    {
     "data": {
      "text/plain": [
       "x    1\n",
       "y    2\n",
       "z    3\n",
       "dtype: int64"
      ]
     },
     "execution_count": 30,
     "metadata": {},
     "output_type": "execute_result"
    }
   ],
   "source": [
    "series"
   ]
  },
  {
   "cell_type": "code",
   "execution_count": 32,
   "id": "1bd58507",
   "metadata": {},
   "outputs": [
    {
     "data": {
      "text/plain": [
       "1"
      ]
     },
     "execution_count": 32,
     "metadata": {},
     "output_type": "execute_result"
    }
   ],
   "source": [
    "series[0]"
   ]
  },
  {
   "cell_type": "code",
   "execution_count": 33,
   "id": "02ba012b",
   "metadata": {},
   "outputs": [
    {
     "data": {
      "text/plain": [
       "3"
      ]
     },
     "execution_count": 33,
     "metadata": {},
     "output_type": "execute_result"
    }
   ],
   "source": [
    "series[2]"
   ]
  },
  {
   "cell_type": "code",
   "execution_count": 34,
   "id": "49452302",
   "metadata": {},
   "outputs": [
    {
     "data": {
      "text/plain": [
       "x    1\n",
       "y    2\n",
       "dtype: int64"
      ]
     },
     "execution_count": 34,
     "metadata": {},
     "output_type": "execute_result"
    }
   ],
   "source": [
    "series[0:2]"
   ]
  },
  {
   "cell_type": "code",
   "execution_count": 35,
   "id": "cf9e72a5",
   "metadata": {},
   "outputs": [
    {
     "data": {
      "text/plain": [
       "x    1\n",
       "y    2\n",
       "z    3\n",
       "dtype: int64"
      ]
     },
     "execution_count": 35,
     "metadata": {},
     "output_type": "execute_result"
    }
   ],
   "source": [
    "series[:]"
   ]
  },
  {
   "cell_type": "code",
   "execution_count": 36,
   "id": "10155535",
   "metadata": {},
   "outputs": [
    {
     "data": {
      "text/plain": [
       "3"
      ]
     },
     "execution_count": 36,
     "metadata": {},
     "output_type": "execute_result"
    }
   ],
   "source": [
    "max(series)"
   ]
  },
  {
   "cell_type": "code",
   "execution_count": 37,
   "id": "2ea279f3",
   "metadata": {},
   "outputs": [
    {
     "data": {
      "text/plain": [
       "1"
      ]
     },
     "execution_count": 37,
     "metadata": {},
     "output_type": "execute_result"
    }
   ],
   "source": [
    "min(series)"
   ]
  },
  {
   "cell_type": "code",
   "execution_count": 38,
   "id": "b4a15e1b",
   "metadata": {},
   "outputs": [
    {
     "data": {
      "text/plain": [
       "z    3\n",
       "dtype: int64"
      ]
     },
     "execution_count": 38,
     "metadata": {},
     "output_type": "execute_result"
    }
   ],
   "source": [
    "series[series>2]"
   ]
  },
  {
   "cell_type": "code",
   "execution_count": null,
   "id": "31df7289",
   "metadata": {},
   "outputs": [],
   "source": []
  }
 ],
 "metadata": {
  "kernelspec": {
   "display_name": "Python 3 (ipykernel)",
   "language": "python",
   "name": "python3"
  },
  "language_info": {
   "codemirror_mode": {
    "name": "ipython",
    "version": 3
   },
   "file_extension": ".py",
   "mimetype": "text/x-python",
   "name": "python",
   "nbconvert_exporter": "python",
   "pygments_lexer": "ipython3",
   "version": "3.9.12"
  }
 },
 "nbformat": 4,
 "nbformat_minor": 5
}
